{
 "cells": [
  {
   "cell_type": "code",
   "execution_count": 1,
   "metadata": {},
   "outputs": [],
   "source": [
    "import numpy as np\n",
    "import pandas as pd\n",
    "import seaborn as sns\n",
    "import matplotlib.pyplot as plt\n",
    "from sklearn.model_selection import train_test_split"
   ]
  },
  {
   "cell_type": "code",
   "execution_count": 2,
   "metadata": {},
   "outputs": [],
   "source": [
    "pd.options.plotting.backend = \"plotly\""
   ]
  },
  {
   "cell_type": "code",
   "execution_count": 3,
   "metadata": {},
   "outputs": [],
   "source": [
    "df = pd.read_csv('Video_games_esrb_rating.csv')\n",
    "df.head()\n",
    "df.drop(['title'], inplace=True, axis=1)\n"
   ]
  },
  {
   "cell_type": "code",
   "execution_count": 4,
   "metadata": {},
   "outputs": [
    {
     "data": {
      "text/plain": [
       "array(['E', 'ET', 'M', 'T'], dtype=object)"
      ]
     },
     "execution_count": 4,
     "metadata": {},
     "output_type": "execute_result"
    }
   ],
   "source": [
    "ratings = df['esrb_rating'].unique()\n",
    "ratings"
   ]
  },
  {
   "cell_type": "code",
   "execution_count": 5,
   "metadata": {},
   "outputs": [],
   "source": [
    "df['esrb_rating'] = df['esrb_rating'].replace(\n",
    "    'E', 0).replace('ET', 1).replace('T', 2).replace('M', 3)\n",
    "\n",
    "y = df['esrb_rating']\n",
    "X = df.drop(['esrb_rating'], axis=1)"
   ]
  },
  {
   "cell_type": "code",
   "execution_count": null,
   "metadata": {},
   "outputs": [],
   "source": [
    "from sklearn.ensemble import RandomForestClassifier\n",
    "from sklearn.metrics import mean_absolute_error, mean_squared_error\n",
    "SEED = 42\n",
    "\n",
    "n_estimators = np.arange(1, 100, 10)\n",
    "\n",
    "data = []\n",
    "for i in n_estimators:\n",
    "\n",
    "    X_train, X_test, y_train, y_test = train_test_split(X, y,\n",
    "                                                        test_size=0.2,\n",
    "                                                        random_state=SEED)\n",
    "\n",
    "    rfc = RandomForestClassifier(n_estimators=i,\n",
    "                                 max_depth=11,\n",
    "                                 random_state=SEED)\n",
    "\n",
    "    rfc.fit(X_train, y_train)\n",
    "    # Predict the test set labels\n",
    "    y_pred = rfc.predict(X_test)\n",
    "\n",
    "    serie = pd.Series([i, mean_absolute_error(y_test, y_pred), mean_squared_error(\n",
    "        y_test, y_pred), np.sqrt(mean_squared_error(y_test, y_pred))], index=['depth', 'mae', 'mse', 'rmse'])\n",
    "    data.append(serie)\n"
   ]
  }
 ],
 "metadata": {
  "kernelspec": {
   "display_name": "Python 3",
   "language": "python",
   "name": "python3"
  },
  "language_info": {
   "codemirror_mode": {
    "name": "ipython",
    "version": 3
   },
   "file_extension": ".py",
   "mimetype": "text/x-python",
   "name": "python",
   "nbconvert_exporter": "python",
   "pygments_lexer": "ipython3",
   "version": "3.9.11"
  },
  "orig_nbformat": 4,
  "vscode": {
   "interpreter": {
    "hash": "261fdfb3c1360f2e2671d097237d2f9f5182600658e0808da00a5156d367b623"
   }
  }
 },
 "nbformat": 4,
 "nbformat_minor": 2
}
